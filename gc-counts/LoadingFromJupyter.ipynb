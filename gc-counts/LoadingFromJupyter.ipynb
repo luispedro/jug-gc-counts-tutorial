{
 "cells": [
  {
   "cell_type": "markdown",
   "metadata": {},
   "source": [
    "# Exploring jug results from Jupyter\n",
    "\n",
    "**NOTE**: this is a joke dataset! There is no reason to expect that this is anything but a biased-by-technical artifacts sampling of the data."
   ]
  },
  {
   "cell_type": "markdown",
   "metadata": {},
   "source": [
    "We start with the standard imports from Matplotlib"
   ]
  },
  {
   "cell_type": "code",
   "execution_count": null,
   "metadata": {},
   "outputs": [],
   "source": [
    "from matplotlib import pyplot as plt\n",
    "from matplotlib import style\n",
    "style.use('default')"
   ]
  },
  {
   "cell_type": "markdown",
   "metadata": {},
   "source": [
    "Now, we have to _import_ the jug machinery and tell it where we stored our results"
   ]
  },
  {
   "cell_type": "code",
   "execution_count": null,
   "metadata": {},
   "outputs": [],
   "source": [
    "from jug import value, init\n",
    "_,jugspace = init('jugfile.py', 'jugfile.jugdata')"
   ]
  },
  {
   "cell_type": "markdown",
   "metadata": {},
   "source": [
    "`jugspace` is a Python dictionary with the `Task` objects and we can use `value` to _load_ the results"
   ]
  },
  {
   "cell_type": "code",
   "execution_count": null,
   "metadata": {},
   "outputs": [],
   "source": [
    "data = value(jugspace['final'])\n",
    "data"
   ]
  },
  {
   "cell_type": "markdown",
   "metadata": {},
   "source": [
    "First, we take care of some aesthetical aspects:\n",
    "\n",
    "1. Rename the index\n",
    "2. Sort by the meean value"
   ]
  },
  {
   "cell_type": "code",
   "execution_count": null,
   "metadata": {},
   "outputs": [],
   "source": [
    "data = data.rename(index=lambda ix: ix.split('/')[1].split('.')[1], )\n",
    "data = data.sort_values(by='mean')\n",
    "data"
   ]
  },
  {
   "cell_type": "markdown",
   "metadata": {},
   "source": [
    "Now, a simple plot, showing the quartiles"
   ]
  },
  {
   "cell_type": "code",
   "execution_count": null,
   "metadata": {},
   "outputs": [],
   "source": [
    "fig,ax = plt.subplots()\n",
    "ax.plot(data['25%'], label='Q1')\n",
    "ax.plot(data['50%'], label='Q2')\n",
    "ax.plot(data['75%'], label='Q3')\n",
    "ax.legend(loc='best')\n",
    "\n",
    "ax.set_ylabel('GC fraction')\n",
    "ax.set_xlabel('Habitat')\n",
    "\n",
    "for x in ax.get_xticklabels():\n",
    "    x.set_rotation(90)\n",
    "    \n",
    "fig.tight_layout()"
   ]
  },
  {
   "cell_type": "markdown",
   "metadata": {},
   "source": [
    "We can also save it from Jupyter for posterity (or publication)"
   ]
  },
  {
   "cell_type": "code",
   "execution_count": null,
   "metadata": {},
   "outputs": [],
   "source": [
    "fig.savefig('gc-per-habitat-jupyter.pdf')"
   ]
  },
  {
   "cell_type": "markdown",
   "metadata": {},
   "source": [
    "**Reminder**: This is not a serious dataset! Do not make any scientific conclusions from it!\n",
    "\n",
    "It's real data, but sampling the first 500 sequences (of millions) is **not** an unbiased sample at all. So any differences should be assumed to be contaminated by sampling biases."
   ]
  }
 ],
 "metadata": {
  "kernelspec": {
   "display_name": "Python 3",
   "language": "python",
   "name": "python3"
  },
  "language_info": {
   "codemirror_mode": {
    "name": "ipython",
    "version": 3
   },
   "file_extension": ".py",
   "mimetype": "text/x-python",
   "name": "python",
   "nbconvert_exporter": "python",
   "pygments_lexer": "ipython3",
   "version": "3.8.6"
  }
 },
 "nbformat": 4,
 "nbformat_minor": 4
}
